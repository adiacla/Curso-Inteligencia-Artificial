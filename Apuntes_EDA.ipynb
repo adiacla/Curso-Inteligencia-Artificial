{
  "nbformat": 4,
  "nbformat_minor": 0,
  "metadata": {
    "colab": {
      "provenance": [],
      "authorship_tag": "ABX9TyPfB0waPEh6RFov98oab3Fl",
      "include_colab_link": true
    },
    "kernelspec": {
      "name": "python3",
      "display_name": "Python 3"
    },
    "language_info": {
      "name": "python"
    }
  },
  "cells": [
    {
      "cell_type": "markdown",
      "metadata": {
        "id": "view-in-github",
        "colab_type": "text"
      },
      "source": [
        "<a href=\"https://colab.research.google.com/github/adiacla/Curso-Inteligencia-Artificial/blob/main/Apuntes_EDA.ipynb\" target=\"_parent\"><img src=\"https://colab.research.google.com/assets/colab-badge.svg\" alt=\"Open In Colab\"/></a>"
      ]
    },
    {
      "cell_type": "markdown",
      "source": [
        "#Variables en python\n",
        "Las varaibles categoricas o text se guardan inicialmente en tipo object\n",
        "Las variables numericas se guardan en tipo Int o float (8,16,32,64)\n"
      ],
      "metadata": {
        "id": "m-bcDbvbHxwY"
      }
    },
    {
      "cell_type": "markdown",
      "source": [
        "#Cargar los datos\n",
        "##Cargar un dataframe\n",
        "### Crear dataset usando numpy\n",
        "\n",
        "* Esta una tabulacion\n",
        "* Esta es otra\n"
      ],
      "metadata": {
        "id": "exBP4KxUIHUJ"
      }
    },
    {
      "cell_type": "code",
      "execution_count": 1,
      "metadata": {
        "id": "iScimPNKHoNI"
      },
      "outputs": [],
      "source": [
        "import pandas as pd\n",
        "import numpy as np\n",
        "\n",
        "# Crear un dataset simulado\n",
        "np.random.seed(42)\n",
        "data = {\n",
        "    \"Estudiante\": [f\"E{i}\" for i in range(1, 21)],\n",
        "    \"Edad\": np.random.randint(18, 25, size=20),\n",
        "    \"Género\": np.random.choice([\"Femenino\", \"Masculino\"], size=20),\n",
        "    \"Nota_Matemáticas\": np.random.normal(70, 10, size=20).round(1),\n",
        "    \"Nota_Ciencias\": np.random.normal(75, 12, size=20).round(1),\n",
        "    \"Nota_Inglés\": np.random.normal(65, 15, size=20).round(1),\n",
        "}\n"
      ]
    }
  ]
}